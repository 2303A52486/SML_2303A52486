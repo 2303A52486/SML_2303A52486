{
  "nbformat": 4,
  "nbformat_minor": 0,
  "metadata": {
    "colab": {
      "provenance": [],
      "authorship_tag": "ABX9TyOeVr7q68j/rcrRJMdevHst",
      "include_colab_link": true
    },
    "kernelspec": {
      "name": "python3",
      "display_name": "Python 3"
    },
    "language_info": {
      "name": "python"
    }
  },
  "cells": [
    {
      "cell_type": "markdown",
      "metadata": {
        "id": "view-in-github",
        "colab_type": "text"
      },
      "source": [
        "<a href=\"https://colab.research.google.com/github/2303A52486/SML_2303A52486/blob/main/SML_Assignment_9.ipynb\" target=\"_parent\"><img src=\"https://colab.research.google.com/assets/colab-badge.svg\" alt=\"Open In Colab\"/></a>"
      ]
    },
    {
      "cell_type": "markdown",
      "source": [
        "V.Abhinav(2303A52486)"
      ],
      "metadata": {
        "id": "5jNub7AQa0qA"
      }
    },
    {
      "cell_type": "markdown",
      "source": [
        "## **Question-1**"
      ],
      "metadata": {
        "id": "x76vDviIb8z4"
      }
    },
    {
      "cell_type": "code",
      "execution_count": 2,
      "metadata": {
        "colab": {
          "base_uri": "https://localhost:8080/"
        },
        "id": "AHdm3efgaQ6w",
        "outputId": "c46afc78-b24c-42ee-90e0-952dae3aa1f5"
      },
      "outputs": [
        {
          "output_type": "stream",
          "name": "stdout",
          "text": [
            "Test size: 0.2, Accuracy: 0.7761194029850746\n",
            "Test size: 0.3, Accuracy: 0.7722772277227723\n",
            "Test size: 0.4, Accuracy: 0.7611940298507462\n"
          ]
        }
      ],
      "source": [
        "import pandas as pd\n",
        "from sklearn.model_selection import train_test_split\n",
        "from sklearn.linear_model import LogisticRegression\n",
        "from sklearn.metrics import accuracy_score\n",
        "from sklearn.preprocessing import LabelEncoder, StandardScaler\n",
        "\n",
        "# Load the dataset (replace with the correct file path)\n",
        "data = pd.read_csv(\"breast_cancer_survival.csv\")\n",
        "\n",
        "# Encode categorical variables to numeric using LabelEncoder\n",
        "for column in data.select_dtypes(include=['object']).columns:\n",
        "    label_encoder = LabelEncoder()\n",
        "    data[column] = label_encoder.fit_transform(data[column])\n",
        "\n",
        "# Separate features (input data) and target (output labels)\n",
        "features = data.iloc[:, :-1]  # All columns except the last one are features\n",
        "target = data.iloc[:, -1]     # The last column is the target variable\n",
        "\n",
        "# Scale the feature data to improve model performance\n",
        "scaler = StandardScaler()\n",
        "scaled_features = scaler.fit_transform(features)\n",
        "\n",
        "# Try different test sizes and check accuracy\n",
        "test_sizes = [0.2, 0.3, 0.4]  # Different proportions of data used for testing\n",
        "\n",
        "for size in test_sizes:\n",
        "    # Split the data into training and testing sets\n",
        "    X_train, X_test, y_train, y_test = train_test_split(scaled_features, target, test_size=size, random_state=42)\n",
        "\n",
        "    # Train the Logistic Regression model with increased iterations\n",
        "    model = LogisticRegression(max_iter=5000)  # Increased max_iter\n",
        "    model.fit(X_train, y_train)\n",
        "\n",
        "    # Predict the target values for the test set\n",
        "    y_pred = model.predict(X_test)\n",
        "\n",
        "    # Calculate the accuracy of the model\n",
        "    accuracy = accuracy_score(y_test, y_pred)\n",
        "\n",
        "    # Print the accuracy for the current test size\n",
        "    print(f\"Test size: {size}, Accuracy: {accuracy}\")\n"
      ]
    },
    {
      "cell_type": "markdown",
      "source": [
        "## **Question-2**"
      ],
      "metadata": {
        "id": "CRxkv4O8cgZR"
      }
    },
    {
      "cell_type": "code",
      "source": [
        "import pandas as pd\n",
        "from sklearn.model_selection import train_test_split\n",
        "from sklearn.linear_model import LogisticRegression\n",
        "from sklearn.metrics import accuracy_score\n",
        "from sklearn.preprocessing import LabelEncoder, StandardScaler\n",
        "\n",
        "# Load the dataset (replace with the correct file path)\n",
        "file_path = '/content/breast_cancer_survival.csv'\n",
        "data = pd.read_csv(file_path)\n",
        "\n",
        "# Encode categorical variables to numeric using LabelEncoder\n",
        "for column in data.select_dtypes(include=['object']).columns:\n",
        "    label_encoder = LabelEncoder()\n",
        "    data[column] = label_encoder.fit_transform(data[column])\n",
        "\n",
        "# Separate features (input data) and target (output labels)\n",
        "features = data.iloc[:, :-1]  # All columns except the last one are features\n",
        "target = data.iloc[:, -1]     # The last column is the target variable\n",
        "\n",
        "# Scale the feature data to improve model performance\n",
        "scaler = StandardScaler()\n",
        "scaled_features = scaler.fit_transform(features)\n",
        "\n",
        "# Experiment with different training/testing split ratios\n",
        "split_ranges = [0.1, 0.2, 0.3, 0.4, 0.5]  # Different training/test splits\n",
        "\n",
        "for split in split_ranges:\n",
        "    # Split the data into training and testing sets\n",
        "    X_train, X_test, y_train, y_test = train_test_split(scaled_features, target, test_size=split, random_state=42)\n",
        "\n",
        "    # Train the Logistic Regression model with increased iterations\n",
        "    model = LogisticRegression(max_iter=5000)  # Increased max_iter\n",
        "    model.fit(X_train, y_train)\n",
        "\n",
        "    # Predict the target values for the test set\n",
        "    y_pred = model.predict(X_test)\n",
        "\n",
        "    # Calculate the accuracy of the model\n",
        "    accuracy = accuracy_score(y_test, y_pred)\n",
        "\n",
        "    # Print the accuracy and split ratio\n",
        "    print(f\"Training/Test Split: {1-split}/{split}, Accuracy: {accuracy}\")\n"
      ],
      "metadata": {
        "colab": {
          "base_uri": "https://localhost:8080/"
        },
        "id": "9xFf_e8uclV_",
        "outputId": "e0ce3e43-16b5-4c4a-d0f9-3ca3f2730488"
      },
      "execution_count": 3,
      "outputs": [
        {
          "output_type": "stream",
          "name": "stdout",
          "text": [
            "Training/Test Split: 0.9/0.1, Accuracy: 0.7058823529411765\n",
            "Training/Test Split: 0.8/0.2, Accuracy: 0.7761194029850746\n",
            "Training/Test Split: 0.7/0.3, Accuracy: 0.7722772277227723\n",
            "Training/Test Split: 0.6/0.4, Accuracy: 0.7611940298507462\n",
            "Training/Test Split: 0.5/0.5, Accuracy: 0.7365269461077845\n"
          ]
        }
      ]
    }
  ]
}
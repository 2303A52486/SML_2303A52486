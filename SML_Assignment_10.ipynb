{
  "nbformat": 4,
  "nbformat_minor": 0,
  "metadata": {
    "colab": {
      "provenance": [],
      "authorship_tag": "ABX9TyPzAXAEF6lGnXe8R+8tJdGI",
      "include_colab_link": true
    },
    "kernelspec": {
      "name": "python3",
      "display_name": "Python 3"
    },
    "language_info": {
      "name": "python"
    }
  },
  "cells": [
    {
      "cell_type": "markdown",
      "metadata": {
        "id": "view-in-github",
        "colab_type": "text"
      },
      "source": [
        "<a href=\"https://colab.research.google.com/github/2303A52486/SML_2303A52486/blob/main/SML_Assignment_10.ipynb\" target=\"_parent\"><img src=\"https://colab.research.google.com/assets/colab-badge.svg\" alt=\"Open In Colab\"/></a>"
      ]
    },
    {
      "cell_type": "markdown",
      "source": [
        "**V.Abhinav (2303A52486)**"
      ],
      "metadata": {
        "id": "aCzVg78vgn2w"
      }
    },
    {
      "cell_type": "markdown",
      "source": [
        "## Question 1:\n",
        "Read the data with pandas and find features and target variables\n",
        "\n",
        "Find target variable\n",
        "\n",
        "Train KNN model\n",
        "\n",
        "Find accuracy with different test sizes"
      ],
      "metadata": {
        "id": "hXFDGUJfiWXg"
      }
    },
    {
      "cell_type": "code",
      "execution_count": 3,
      "metadata": {
        "colab": {
          "base_uri": "https://localhost:8080/"
        },
        "id": "Wea4Ae_8gfvx",
        "outputId": "8387270c-9c36-498d-afad-e3b3f99b5e6f"
      },
      "outputs": [
        {
          "output_type": "stream",
          "name": "stdout",
          "text": [
            "Test Size: 20%, KNN Accuracy: 0.7313432835820896\n",
            "Test Size: 25%, KNN Accuracy: 0.7380952380952381\n",
            "Test Size: 30%, KNN Accuracy: 0.7326732673267327\n",
            "Test Size: 35%, KNN Accuracy: 0.7264957264957265\n"
          ]
        }
      ],
      "source": [
        "import pandas as pd\n",
        "from sklearn.model_selection import train_test_split\n",
        "from sklearn.preprocessing import LabelEncoder, StandardScaler\n",
        "from sklearn.neighbors import KNeighborsClassifier\n",
        "from sklearn.metrics import accuracy_score\n",
        "\n",
        "# Load the dataset\n",
        "df = pd.read_csv('breast_cancer_survival.csv')\n",
        "\n",
        "# Preprocess the data\n",
        "# Encode categorical variables\n",
        "label_encoders = {}\n",
        "categorical_cols = ['Tumour_Stage', 'Histology', 'ER status', 'PR status', 'HER2 status', 'Surgery_type', 'Patient_Status']\n",
        "\n",
        "for col in categorical_cols:\n",
        "    le = LabelEncoder()\n",
        "    df[col] = le.fit_transform(df[col])\n",
        "    label_encoders[col] = le\n",
        "\n",
        "# Define features (X) and target (y)\n",
        "X = df.drop(columns=['Patient_Status', 'Date_of_Surgery', 'Date_of_Last_Visit', 'Gender'])\n",
        "y = df['Patient_Status']\n",
        "\n",
        "# Standardize the data\n",
        "scaler = StandardScaler()\n",
        "X_scaled = scaler.fit_transform(X)\n",
        "\n",
        "# Define test sizes\n",
        "test_sizes = [20, 25, 30, 35]\n",
        "\n",
        "# Train and evaluate KNN with different test sizes\n",
        "knn_accuracies = []\n",
        "for size in test_sizes:\n",
        "    # Split the data\n",
        "    X_train, X_test, y_train, y_test = train_test_split(X_scaled, y, test_size=size/100, random_state=42)\n",
        "\n",
        "    # Train KNN model\n",
        "    knn = KNeighborsClassifier(n_neighbors=5)\n",
        "    knn.fit(X_train, y_train)\n",
        "\n",
        "    # Predict and calculate accuracy\n",
        "    y_pred = knn.predict(X_test)\n",
        "    accuracy = accuracy_score(y_test, y_pred)\n",
        "    knn_accuracies.append(accuracy)\n",
        "\n",
        "# Display the results for each test size\n",
        "for i, size in enumerate(test_sizes):\n",
        "    print(f\"Test Size: {size}%, KNN Accuracy: {knn_accuracies[i]}\")\n"
      ]
    },
    {
      "cell_type": "markdown",
      "source": [
        "## Question 2:\n",
        "\n",
        "Implement SVM using pre-defied library. Analysis of different training and testing splits ranges, and find the accuracy. By taking test-size as [20, 25, 30, 35] compute the result"
      ],
      "metadata": {
        "id": "av3ypZTytSe_"
      }
    },
    {
      "cell_type": "code",
      "source": [
        "import pandas as pd\n",
        "from sklearn.model_selection import train_test_split\n",
        "from sklearn.preprocessing import LabelEncoder, StandardScaler\n",
        "from sklearn.svm import SVC\n",
        "from sklearn.metrics import accuracy_score\n",
        "\n",
        "# Load the dataset\n",
        "df = pd.read_csv('breast_cancer_survival.csv')\n",
        "\n",
        "# Preprocess the data\n",
        "label_encoders = {}\n",
        "categorical_cols = ['Tumour_Stage', 'Histology', 'ER status', 'PR status', 'HER2 status', 'Surgery_type', 'Patient_Status']\n",
        "\n",
        "for col in categorical_cols:\n",
        "    le = LabelEncoder()\n",
        "    df[col] = le.fit_transform(df[col])\n",
        "    label_encoders[col] = le\n",
        "\n",
        "# Define features (X) and target (y)\n",
        "X = df.drop(columns=['Patient_Status', 'Date_of_Surgery', 'Date_of_Last_Visit', 'Gender'])\n",
        "y = df['Patient_Status']\n",
        "\n",
        "# Standardize the data\n",
        "scaler = StandardScaler()\n",
        "X_scaled = scaler.fit_transform(X)\n",
        "\n",
        "# Define test sizes\n",
        "test_sizes = [20, 25, 30, 35]\n",
        "\n",
        "# Train and evaluate SVM with different test sizes\n",
        "svm_accuracies = []\n",
        "for size in test_sizes:\n",
        "    # Split the data\n",
        "    X_train, X_test, y_train, y_test = train_test_split(X_scaled, y, test_size=size/100, random_state=42)\n",
        "\n",
        "    # Train SVM model\n",
        "    svm = SVC(kernel='linear')\n",
        "    svm.fit(X_train, y_train)\n",
        "\n",
        "    # Predict and calculate accuracy\n",
        "    y_pred = svm.predict(X_test)\n",
        "    accuracy = accuracy_score(y_test, y_pred)\n",
        "    svm_accuracies.append(accuracy)\n",
        "\n",
        "# Display the results for each test size\n",
        "for i, size in enumerate(test_sizes):\n",
        "    print(f\"Test Size: {size}%, SVM Accuracy: {svm_accuracies[i]}\")\n"
      ],
      "metadata": {
        "colab": {
          "base_uri": "https://localhost:8080/"
        },
        "id": "TTOXCADntgFy",
        "outputId": "3db0f23b-4760-4643-dc53-fcfad3b400ae"
      },
      "execution_count": 4,
      "outputs": [
        {
          "output_type": "stream",
          "name": "stdout",
          "text": [
            "Test Size: 20%, SVM Accuracy: 0.7761194029850746\n",
            "Test Size: 25%, SVM Accuracy: 0.7738095238095238\n",
            "Test Size: 30%, SVM Accuracy: 0.7821782178217822\n",
            "Test Size: 35%, SVM Accuracy: 0.7863247863247863\n"
          ]
        }
      ]
    }
  ]
}
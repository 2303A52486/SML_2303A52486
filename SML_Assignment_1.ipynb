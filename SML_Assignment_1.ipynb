{
  "nbformat": 4,
  "nbformat_minor": 0,
  "metadata": {
    "colab": {
      "provenance": [],
      "authorship_tag": "ABX9TyNDQyde46sYbbEOImjNHeaG",
      "include_colab_link": true
    },
    "kernelspec": {
      "name": "python3",
      "display_name": "Python 3"
    },
    "language_info": {
      "name": "python"
    }
  },
  "cells": [
    {
      "cell_type": "markdown",
      "metadata": {
        "id": "view-in-github",
        "colab_type": "text"
      },
      "source": [
        "<a href=\"https://colab.research.google.com/github/2303A52486/SML_2303A52486/blob/main/SML_Assignment_1.ipynb\" target=\"_parent\"><img src=\"https://colab.research.google.com/assets/colab-badge.svg\" alt=\"Open In Colab\"/></a>"
      ]
    },
    {
      "cell_type": "markdown",
      "source": [
        "**V.Abhinav (2303A52486)**"
      ],
      "metadata": {
        "id": "GBrFPJ4hIKXt"
      }
    },
    {
      "cell_type": "markdown",
      "source": [
        "**Question 1**"
      ],
      "metadata": {
        "id": "dGBa0XYLKRv3"
      }
    },
    {
      "cell_type": "code",
      "source": [
        "import numpy as np\n",
        "import matplotlib.pyplot as plt\n",
        "\n",
        "#Define the xset\n",
        "x = np.array([2.3,2.5,3.6,2.8,3.1,2.9,3.2,2.7,2.8,3.0])\n",
        "\n",
        "# Compute the histogram with density = True to normalize the histogram\n",
        "counts, bin_edges = np.histogram(x, bins=5, density=True)\n",
        "\n",
        "# Plot the histogram\n",
        "plt.hist(x, bins=5, density=True, alpha=0.6, color='lightblue', edgecolor='white')\n",
        "\n",
        "# Add abels and title\n",
        "plt.xlabel('Value')\n",
        "plt.ylabel('Density')\n",
        "plt.title(\"Histogram with Density for X\")\n",
        "plt.show()\n",
        "\n",
        "# Display bin edges and densities\n",
        "print(\"Bin edges:\", bin_edges)\n",
        "print(\"Density values (heights of the bars):\",counts)"
      ],
      "metadata": {
        "colab": {
          "base_uri": "https://localhost:8080/",
          "height": 507
        },
        "id": "5vmzYhSqCCWz",
        "outputId": "62ad3f4b-3fa7-4522-a8f8-7c543f82e387"
      },
      "execution_count": null,
      "outputs": [
        {
          "output_type": "display_data",
          "data": {
            "text/plain": [
              "<Figure size 640x480 with 1 Axes>"
            ],
            "image/png": "[encoded data removed]"
          },
          "metadata": {}
        },
        {
          "output_type": "stream",
          "name": "stdout",
          "text": [
            "Bin edges: [2.3  2.56 2.82 3.08 3.34 3.6 ]\n",
            "Density values (heights of the bars): [0.76923077 1.15384615 0.76923077 0.76923077 0.38461538]\n"
          ]
        }
      ]
    },
    {
      "cell_type": "code",
      "source": [
        "from sys import modules\n",
        "import numpy as np\n",
        "import matplotlib.pyplot as plt\n",
        "from scipy import stats\n",
        "import pandas as pd\n",
        "\n",
        "x = np.array([2.3,2.5,3.6,2.8,3.1,2.9,3.2,2.7,2.8,3.0])\n",
        "\n",
        "# Mean\n",
        "mean_value = np.mean(x)\n",
        "\n",
        "# Median\n",
        "median_value = np.median(x)\n",
        "\n",
        "# Mode\n",
        "mode_value, mode_count = stats.mode(x)\n",
        "\n",
        "# Variance\n",
        "variance_value = np.var(x, ddof=1)  # Sample variance (ddof=1)\n",
        "\n",
        "# Standard Deviation\n",
        "std_dev_value = np.std(x, ddof=1)  # Sample standard deviation (ddof=1)\n",
        "\n",
        "# Range\n",
        "range_value = np.ptp(x)\n",
        "\n",
        "# Interquartile Range (IQR)\n",
        "q75, q25 = np.percentile(x, [75, 25])\n",
        "iqr_value = q75 - q25\n",
        "\n",
        "# Skewness\n",
        "skewness_value = stats.skew(x)\n",
        "\n",
        "# Kurtosis\n",
        "kurtosis_value = stats.kurtosis(x)\n",
        "\n",
        "\n",
        "# Display the results\n",
        "print(f\"Mean: {mean_value:.2f}\")\n",
        "print(f\"Median: {median_value:.2f}\")\n",
        "print(f\"Variance: {variance_value:.2f}\")\n",
        "print(f\"Standard Deviation: {std_dev_value:.2f}\")\n",
        "print(f\"Range: {range_value:.2f}\")\n",
        "print(f\"Interquartile Range (IQR): {iqr_value:.2f}\")\n",
        "print(f\"Skewness: {skewness_value:.2f}\")\n",
        "print(f\"Kurtosis: {kurtosis_value:.2f}\")\n"
      ],
      "metadata": {
        "colab": {
          "base_uri": "https://localhost:8080/"
        },
        "id": "P5bt_w8GJj1t",
        "outputId": "14a6fd9d-c355-480f-c55c-af5192f8bab8"
      },
      "execution_count": null,
      "outputs": [
        {
          "output_type": "stream",
          "name": "stdout",
          "text": [
            "Mean: 2.89\n",
            "Median: 2.85\n",
            "Variance: 0.13\n",
            "Standard Deviation: 0.37\n",
            "Range: 1.30\n",
            "Interquartile Range (IQR): 0.35\n",
            "Skewness: 0.30\n",
            "Kurtosis: -0.19\n"
          ]
        }
      ]
    },
    {
      "cell_type": "markdown",
      "source": [
        "**Question 2**"
      ],
      "metadata": {
        "id": "fLmYCnxaRX3O"
      }
    },
    {
      "cell_type": "code",
      "source": [
        "from sys import modules\n",
        "import numpy as np\n",
        "import matplotlib.pyplot as plt\n",
        "from scipy import stats\n",
        "import pandas as pd\n",
        "\n",
        "x = np.array([5,6,3,8,3,7,8])\n",
        "\n",
        "# Mean\n",
        "mean_value = np.mean(x)\n",
        "\n",
        "# Median\n",
        "median_value = np.median(x)\n",
        "\n",
        "# Mode\n",
        "mode_value, mode_count = stats.mode(x)\n",
        "\n",
        "# Variance\n",
        "variance_value = np.var(x, ddof=1)  # Sample variance (ddof=1)\n",
        "\n",
        "# Standard Deviation\n",
        "std_dev_value = np.std(x, ddof=1)  # Sample standard deviation (ddof=1)\n",
        "\n",
        "# Range\n",
        "range_value = np.ptp(x)\n",
        "\n",
        "# Interquartile Range (IQR)\n",
        "q75, q25 = np.percentile(x, [75, 25])\n",
        "iqr_value = q75 - q25\n",
        "\n",
        "# Skewness\n",
        "skewness_value = stats.skew(x)\n",
        "\n",
        "# Kurtosis\n",
        "kurtosis_value = stats.kurtosis(x)\n",
        "\n",
        "\n",
        "# Display the results\n",
        "print(f\"Mean: {mean_value:.2f}\")\n",
        "print(f\"Median: {median_value:.2f}\")\n",
        "print(f\"Variance: {variance_value:.2f}\")\n",
        "print(f\"Standard Deviation: {std_dev_value:.2f}\")\n",
        "print(f\"Range: {range_value:.2f}\")\n",
        "print(f\"Interquartile Range (IQR): {iqr_value:.2f}\")\n",
        "print(f\"Skewness: {skewness_value:.2f}\")\n",
        "print(f\"Kurtosis: {kurtosis_value:.2f}\")"
      ],
      "metadata": {
        "colab": {
          "base_uri": "https://localhost:8080/"
        },
        "id": "7BAbLSxLRXOt",
        "outputId": "c6f55fe5-f40a-413a-fee2-ba8cc78b1300"
      },
      "execution_count": null,
      "outputs": [
        {
          "output_type": "stream",
          "name": "stdout",
          "text": [
            "Mean: 5.71\n",
            "Median: 6.00\n",
            "Variance: 4.57\n",
            "Standard Deviation: 2.14\n",
            "Range: 5.00\n",
            "Interquartile Range (IQR): 3.50\n",
            "Skewness: -0.26\n",
            "Kurtosis: -1.45\n"
          ]
        }
      ]
    },
    {
      "cell_type": "markdown",
      "source": [
        "**Question 3**"
      ],
      "metadata": {
        "id": "maPaVG1FSAwS"
      }
    },
    {
      "cell_type": "code",
      "source": [
        "from sys import modules\n",
        "import numpy as np\n",
        "import matplotlib.pyplot as plt\n",
        "from scipy import stats\n",
        "import pandas as pd\n",
        "\n",
        "y = np.array([4,5,8,2,4,2,5])\n",
        "\n",
        "# Mean\n",
        "mean_value = np.mean(x)\n",
        "\n",
        "# Median\n",
        "median_value = np.median(x)\n",
        "\n",
        "# Mode\n",
        "mode_value, mode_count = stats.mode(x)\n",
        "\n",
        "# Variance\n",
        "variance_value = np.var(x, ddof=1)  # Sample variance (ddof=1)\n",
        "\n",
        "# Standard Deviation\n",
        "std_dev_value = np.std(x, ddof=1)  # Sample standard deviation (ddof=1)\n",
        "\n",
        "# Range\n",
        "range_value = np.ptp(x)\n",
        "\n",
        "# Interquartile Range (IQR)\n",
        "q75, q25 = np.percentile(x, [75, 25])\n",
        "iqr_value = q75 - q25\n",
        "\n",
        "# Skewness\n",
        "skewness_value = stats.skew(x)\n",
        "\n",
        "# Kurtosis\n",
        "kurtosis_value = stats.kurtosis(x)\n",
        "\n",
        "\n",
        "# Display the results\n",
        "print(f\"Mean: {mean_value:.2f}\")\n",
        "print(f\"Median: {median_value:.2f}\")\n",
        "print(f\"Variance: {variance_value:.2f}\")\n",
        "print(f\"Standard Deviation: {std_dev_value:.2f}\")\n",
        "print(f\"Range: {range_value:.2f}\")\n",
        "print(f\"Interquartile Range (IQR): {iqr_value:.2f}\")\n",
        "print(f\"Skewness: {skewness_value:.2f}\")\n",
        "print(f\"Kurtosis: {kurtosis_value:.2f}\")"
      ],
      "metadata": {
        "colab": {
          "base_uri": "https://localhost:8080/"
        },
        "id": "E-bxSXHISKKR",
        "outputId": "16a26da7-34fa-44c1-d903-27b6c5e9e8da"
      },
      "execution_count": null,
      "outputs": [
        {
          "output_type": "stream",
          "name": "stdout",
          "text": [
            "Mean: 5.71\n",
            "Median: 6.00\n",
            "Variance: 4.57\n",
            "Standard Deviation: 2.14\n",
            "Range: 5.00\n",
            "Interquartile Range (IQR): 3.50\n",
            "Skewness: -0.26\n",
            "Kurtosis: -1.45\n"
          ]
        }
      ]
    }
  ]
}
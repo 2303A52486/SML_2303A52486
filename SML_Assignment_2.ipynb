{
  "nbformat": 4,
  "nbformat_minor": 0,
  "metadata": {
    "colab": {
      "provenance": [],
      "authorship_tag": "ABX9TyO7HDP7Dc42ddH0mnRiOQDN",
      "include_colab_link": true
    },
    "kernelspec": {
      "name": "python3",
      "display_name": "Python 3"
    },
    "language_info": {
      "name": "python"
    }
  },
  "cells": [
    {
      "cell_type": "markdown",
      "metadata": {
        "id": "view-in-github",
        "colab_type": "text"
      },
      "source": [
        "<a href=\"https://colab.research.google.com/github/2303A52486/SML_2303A52486/blob/main/SML_Assignment_2.ipynb\" target=\"_parent\"><img src=\"https://colab.research.google.com/assets/colab-badge.svg\" alt=\"Open In Colab\"/></a>"
      ]
    },
    {
      "cell_type": "markdown",
      "source": [
        "**V.Abhinav (2303A52486)**"
      ],
      "metadata": {
        "id": "adrS0Yu-foAj"
      }
    },
    {
      "cell_type": "markdown",
      "source": [
        "**Question 1**"
      ],
      "metadata": {
        "id": "BuB6S4U5f0q-"
      }
    },
    {
      "cell_type": "code",
      "source": [
        "import numpy as np\n",
        "import matplotlib.pyplot as plt\n",
        "\n",
        "#Define the xset\n",
        "x = np.array([1.3,1.5,2.6,2.6,3.2,3.9,4.2,3.7,3.10,3.0,11,6.7,1.9])\n",
        "\n",
        "# Compute the histogram with density = True to normalize the histogram\n",
        "counts, bin_edges = np.histogram(x, bins=5, density=True)\n",
        "\n",
        "# Plot the histogram\n",
        "plt.hist(x, bins=5, density=True, alpha=0.6, color='orange', edgecolor='black')\n",
        "\n",
        "# Add abels and title\n",
        "plt.xlabel('Value')\n",
        "plt.ylabel('Density')\n",
        "plt.title(\"Histogram with Density for X\")\n",
        "plt.show()\n",
        "\n",
        "# Display bin edges and densities\n",
        "print(\"Bin edges:\", bin_edges)\n",
        "print(\"Density values (heights of the bars):\",counts)"
      ],
      "metadata": {
        "colab": {
          "base_uri": "https://localhost:8080/",
          "height": 507
        },
        "id": "5vmzYhSqCCWz",
        "outputId": "4ce89a0d-fa41-4ed7-88d9-f73e20b95970"
      },
      "execution_count": null,
      "outputs": [
        {
          "output_type": "display_data",
          "data": {
            "text/plain": [
              "<Figure size 640x480 with 1 Axes>"
            ],
            "image/png": "[encoded data removed]"
          },
          "metadata": {}
        },
        {
          "output_type": "stream",
          "name": "stdout",
          "text": [
            "Bin edges: [ 1.3   3.24  5.18  7.12  9.06 11.  ]\n",
            "Density values (heights of the bars): [0.31720856 0.11895321 0.03965107 0.         0.03965107]\n"
          ]
        }
      ]
    },
    {
      "cell_type": "markdown",
      "source": [
        "**Question 2**"
      ],
      "metadata": {
        "id": "Wbvv2cq9sjKD"
      }
    },
    {
      "cell_type": "code",
      "source": [
        "from sys import modules\n",
        "import numpy as np\n",
        "import matplotlib.pyplot as plt\n",
        "from scipy import stats\n",
        "import pandas as pd\n",
        "\n",
        "x = np.array([12,13,56,23,41,28,51])\n",
        "\n",
        "# Mean\n",
        "mean_value = np.mean(x)\n",
        "\n",
        "# Median\n",
        "median_value = np.median(x)\n",
        "\n",
        "# Mode\n",
        "mode_value, mode_count = stats.mode(x)\n",
        "\n",
        "# Variance\n",
        "variance_value = np.var(x, ddof=1)  # Sample variance (ddof=1)\n",
        "\n",
        "# Standard Deviation\n",
        "std_dev_value = np.std(x, ddof=1)  # Sample standard deviation (ddof=1)\n",
        "\n",
        "# Range\n",
        "range_value = np.ptp(x)\n",
        "\n",
        "# Interquartile Range (IQR)\n",
        "q75, q25 = np.percentile(x, [75, 25])\n",
        "iqr_value = q75 - q25\n",
        "\n",
        "# Skewness\n",
        "skewness_value = stats.skew(x)\n",
        "\n",
        "# Kurtosis\n",
        "kurtosis_value = stats.kurtosis(x)\n",
        "\n",
        "\n",
        "# Display the results\n",
        "print(f\"Mean: {mean_value:.2f}\")\n",
        "print(f\"Median: {median_value:.2f}\")\n",
        "print(f\"Variance: {variance_value:.2f}\")\n",
        "print(f\"Standard Deviation: {std_dev_value:.2f}\")\n",
        "print(f\"Range: {range_value:.2f}\")\n",
        "print(f\"Interquartile Range (IQR): {iqr_value:.2f}\")\n",
        "print(f\"Skewness: {skewness_value:.2f}\")\n",
        "print(f\"Kurtosis: {kurtosis_value:.2f}\")"
      ],
      "metadata": {
        "colab": {
          "base_uri": "https://localhost:8080/"
        },
        "id": "7zjrfYLMssIl",
        "outputId": "55ea7a7e-f4a5-4f27-916c-110acfb68026"
      },
      "execution_count": null,
      "outputs": [
        {
          "output_type": "stream",
          "name": "stdout",
          "text": [
            "Mean: 32.00\n",
            "Median: 28.00\n",
            "Variance: 312.67\n",
            "Standard Deviation: 17.68\n",
            "Range: 44.00\n",
            "Interquartile Range (IQR): 28.00\n",
            "Skewness: 0.19\n",
            "Kurtosis: -1.48\n"
          ]
        }
      ]
    },
    {
      "cell_type": "markdown",
      "source": [
        "**Question 3**"
      ],
      "metadata": {
        "id": "frpwsY7MtP58"
      }
    },
    {
      "cell_type": "code",
      "source": [
        "from sys import modules\n",
        "import numpy as np\n",
        "import matplotlib.pyplot as plt\n",
        "from scipy import stats\n",
        "import pandas as pd\n",
        "\n",
        "y = np.array([51,63,37,88,33,72,81])\n",
        "\n",
        "# Mean\n",
        "mean_value = np.mean(x)\n",
        "\n",
        "# Median\n",
        "median_value = np.median(x)\n",
        "\n",
        "# Mode\n",
        "mode_value, mode_count = stats.mode(x)\n",
        "\n",
        "# Variance\n",
        "variance_value = np.var(x, ddof=1)  # Sample variance (ddof=1)\n",
        "\n",
        "# Standard Deviation\n",
        "std_dev_value = np.std(x, ddof=1)  # Sample standard deviation (ddof=1)\n",
        "\n",
        "# Range\n",
        "range_value = np.ptp(x)\n",
        "\n",
        "# Interquartile Range (IQR)\n",
        "q75, q25 = np.percentile(x, [75, 25])\n",
        "iqr_value = q75 - q25\n",
        "\n",
        "# Skewness\n",
        "skewness_value = stats.skew(x)\n",
        "\n",
        "# Kurtosis\n",
        "kurtosis_value = stats.kurtosis(x)\n",
        "\n",
        "\n",
        "# Display the results\n",
        "print(f\"Mean: {mean_value:.2f}\")\n",
        "print(f\"Median: {median_value:.2f}\")\n",
        "print(f\"Variance: {variance_value:.2f}\")\n",
        "print(f\"Standard Deviation: {std_dev_value:.2f}\")\n",
        "print(f\"Range: {range_value:.2f}\")\n",
        "print(f\"Interquartile Range (IQR): {iqr_value:.2f}\")\n",
        "print(f\"Skewness: {skewness_value:.2f}\")\n",
        "print(f\"Kurtosis: {kurtosis_value:.2f}\")"
      ],
      "metadata": {
        "colab": {
          "base_uri": "https://localhost:8080/"
        },
        "id": "E-bxSXHISKKR",
        "outputId": "968207e2-8410-45f7-b41e-a626045eb12e"
      },
      "execution_count": null,
      "outputs": [
        {
          "output_type": "stream",
          "name": "stdout",
          "text": [
            "Mean: 32.00\n",
            "Median: 28.00\n",
            "Variance: 312.67\n",
            "Standard Deviation: 17.68\n",
            "Range: 44.00\n",
            "Interquartile Range (IQR): 28.00\n",
            "Skewness: 0.19\n",
            "Kurtosis: -1.48\n"
          ]
        }
      ]
    }
  ]
}
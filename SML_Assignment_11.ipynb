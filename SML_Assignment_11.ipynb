{
  "nbformat": 4,
  "nbformat_minor": 0,
  "metadata": {
    "colab": {
      "provenance": [],
      "authorship_tag": "ABX9TyMeP193u38z0f/4HjgGItxw",
      "include_colab_link": true
    },
    "kernelspec": {
      "name": "python3",
      "display_name": "Python 3"
    },
    "language_info": {
      "name": "python"
    }
  },
  "cells": [
    {
      "cell_type": "markdown",
      "metadata": {
        "id": "view-in-github",
        "colab_type": "text"
      },
      "source": [
        "<a href=\"https://colab.research.google.com/github/2303A52486/SML_2303A52486/blob/main/SML_Assignment_11.ipynb\" target=\"_parent\"><img src=\"https://colab.research.google.com/assets/colab-badge.svg\" alt=\"Open In Colab\"/></a>"
      ]
    },
    {
      "cell_type": "markdown",
      "source": [
        "**V.Abhinav(2303A52486)**"
      ],
      "metadata": {
        "id": "X1b_TBR0zcgc"
      }
    },
    {
      "cell_type": "markdown",
      "source": [
        " **Question 1**\n",
        " 1. Read the data with pandas and find features and target variables\n",
        " 2. Find target variable\n",
        " 3. Train SVM, KNN, Logistic regression and find accuracy\n",
        " 4. Reduce the dimension with PCA"
      ],
      "metadata": {
        "id": "rdmZh4fDzm1U"
      }
    },
    {
      "cell_type": "code",
      "execution_count": 3,
      "metadata": {
        "id": "yA2GiBKro1UE"
      },
      "outputs": [],
      "source": [
        "import pandas as pd\n",
        "from sklearn.model_selection import train_test_split\n",
        "from sklearn.svm import SVC\n",
        "from sklearn.neighbors import KNeighborsClassifier\n",
        "from sklearn.linear_model import LogisticRegression\n",
        "from sklearn.metrics import accuracy_score\n",
        "from sklearn.decomposition import PCA\n",
        "from sklearn.preprocessing import LabelEncoder, StandardScaler\n",
        "\n",
        "# Load the dataset\n",
        "data = pd.read_csv(\"breast_cancer_survival.csv\")\n",
        "\n",
        "# Dropping date columns for simplicity in this analysis\n",
        "data = data.drop(['Date_of_Surgery', 'Date_of_Last_Visit'], axis=1)\n",
        "\n",
        "# Encoding categorical variables\n",
        "label_encoders = {}\n",
        "\n",
        "for column in ['Gender', 'Tumour_Stage', 'Histology', 'ER status', 'PR status','HER2 status', 'Surgery_type', 'Patient_Status']:\n",
        "  le = LabelEncoder()\n",
        "  data[column] = le.fit_transform(data[column])\n",
        "  label_encoders[column] = le\n",
        "\n",
        "# Separate features and target variable\n",
        "features = data.drop('Patient_Status', axis=1)\n",
        "target = data['Patient_Status']"
      ]
    },
    {
      "cell_type": "code",
      "source": [
        "# Standardize the features for PCA and model consistency\n",
        "scaler = StandardScaler()\n",
        "features_scaled = scaler.fit_transform(features)\n",
        "\n",
        "# Split data into training and testing sets\n",
        "X_train, X_test, y_train, y_test = train_test_split(features_scaled, target,test_size=0.2, random_state=42)\n",
        "\n",
        "# Initialize and train models, then calculate accuracy\n",
        "results = {}\n",
        "\n",
        "# SVM\n",
        "svm_model = SVC()\n",
        "svm_model.fit(X_train, y_train)\n",
        "results['SVM'] = accuracy_score(y_test, svm_model.predict(X_test))\n",
        "\n",
        "# KNN\n",
        "knn_model = KNeighborsClassifier()\n",
        "knn_model.fit(X_train, y_train)\n",
        "results['KNN'] = accuracy_score(y_test, knn_model.predict(X_test))\n",
        "\n",
        "# Logistic Regression\n",
        "log_reg_model = LogisticRegression(max_iter=200)\n",
        "log_reg_model.fit(X_train, y_train)\n",
        "results['Logistic Regression'] = accuracy_score(y_test, log_reg_model.predict(X_test))\n",
        "\n",
        "# Apply PCA for dimensionality reduction (2 components for this example)\n",
        "pca = PCA(n_components=2)\n",
        "X_train_pca = pca.fit_transform(X_train)\n",
        "X_test_pca = pca.transform(X_test)\n",
        "\n",
        "# Train models again with PCA-reduced data\n",
        "# SVM with PCA\n",
        "svm_model.fit(X_train_pca, y_train)\n",
        "results['SVM with PCA'] = accuracy_score(y_test, svm_model.predict(X_test_pca))\n",
        "\n",
        "# KNN with PCA\n",
        "knn_model.fit(X_train_pca, y_train)\n",
        "results['KNN with PCA'] = accuracy_score(y_test, knn_model.predict(X_test_pca))\n",
        "\n",
        "# Logistic Regression with PCA\n",
        "log_reg_model.fit(X_train_pca, y_train)\n",
        "results['Logistic Regression with PCA'] = accuracy_score(y_test, log_reg_model.predict(X_test_pca))\n",
        "\n",
        "print(\"Accuracy results:\", results)"
      ],
      "metadata": {
        "colab": {
          "base_uri": "https://localhost:8080/"
        },
        "id": "9h-mX2I90BZ1",
        "outputId": "38bba00b-147e-4fe4-afbe-6e499eaff1ad"
      },
      "execution_count": 4,
      "outputs": [
        {
          "output_type": "stream",
          "name": "stdout",
          "text": [
            "Accuracy results: {'SVM': 0.7761194029850746, 'KNN': 0.7313432835820896, 'Logistic Regression': 0.7761194029850746, 'SVM with PCA': 0.7761194029850746, 'KNN with PCA': 0.7313432835820896, 'Logistic Regression with PCA': 0.7761194029850746}\n"
          ]
        }
      ]
    }
  ]
}
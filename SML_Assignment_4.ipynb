{
  "nbformat": 4,
  "nbformat_minor": 0,
  "metadata": {
    "colab": {
      "provenance": [],
      "authorship_tag": "ABX9TyMEAe+lB93WoOLb17U2st7M",
      "include_colab_link": true
    },
    "kernelspec": {
      "name": "python3",
      "display_name": "Python 3"
    },
    "language_info": {
      "name": "python"
    }
  },
  "cells": [
    {
      "cell_type": "markdown",
      "metadata": {
        "id": "view-in-github",
        "colab_type": "text"
      },
      "source": [
        "<a href=\"https://colab.research.google.com/github/2303A52486/SML_2303A52486/blob/main/SML_Assignment_4.ipynb\" target=\"_parent\"><img src=\"https://colab.research.google.com/assets/colab-badge.svg\" alt=\"Open In Colab\"/></a>"
      ]
    },
    {
      "cell_type": "markdown",
      "source": [
        "**V.Abhinav (2303A52486)**"
      ],
      "metadata": {
        "id": "h-mNA09ERF6r"
      }
    },
    {
      "cell_type": "markdown",
      "source": [
        "Question 1:\n",
        "\n",
        "Read the data with pandas and find features and target variables.\n",
        "\n",
        "Normalize the data with min-max scaling.\n",
        "\n",
        "Split the data into train and test."
      ],
      "metadata": {
        "id": "kbkqIIf2RRje"
      }
    },
    {
      "cell_type": "code",
      "execution_count": null,
      "metadata": {
        "id": "0kg88xtQGz4I",
        "colab": {
          "base_uri": "https://localhost:8080/"
        },
        "outputId": "0bc2e181-c2f8-4c37-8899-b80875de7201"
      },
      "outputs": [
        {
          "output_type": "stream",
          "name": "stdout",
          "text": [
            "Training Features:\n",
            "     sepal length (cm)  sepal width (cm)  petal length (cm)  petal width (cm)\n",
            "22           0.083333          0.666667           0.000000          0.041667\n",
            "15           0.388889          1.000000           0.084746          0.125000\n",
            "65           0.666667          0.458333           0.576271          0.541667\n",
            "11           0.138889          0.583333           0.101695          0.041667\n",
            "42           0.027778          0.500000           0.050847          0.041667\n",
            "\n",
            "Testing Features:\n",
            "      sepal length (cm)  sepal width (cm)  petal length (cm)  petal width (cm)\n",
            "73            0.500000          0.333333           0.627119          0.458333\n",
            "18            0.388889          0.750000           0.118644          0.083333\n",
            "118           0.944444          0.250000           1.000000          0.916667\n",
            "78            0.472222          0.375000           0.593220          0.583333\n",
            "76            0.694444          0.333333           0.644068          0.541667\n",
            "\n",
            "Training Target:\n",
            " 22    NaN\n",
            "15    NaN\n",
            "65    NaN\n",
            "11    NaN\n",
            "42    NaN\n",
            "Name: target, dtype: object\n",
            "\n",
            "Testing Target:\n",
            " 73     NaN\n",
            "18     NaN\n",
            "118    NaN\n",
            "78     NaN\n",
            "76     NaN\n",
            "Name: target, dtype: object\n"
          ]
        }
      ],
      "source": [
        "import pandas as pd\n",
        "from sklearn.model_selection import train_test_split\n",
        "from sklearn.preprocessing import MinMaxScaler\n",
        "from sklearn.datasets import load_iris\n",
        "\n",
        "# Load the Iris dataset\n",
        "iris = load_iris()\n",
        "tr = pd.DataFrame(data=iris.data, columns=iris.feature_names)\n",
        "\n",
        "# Add target variable to the DataFrame\n",
        "tr['target'] = iris\n",
        "\n",
        "# Identify features and target\n",
        "features = tr.drop('target', axis=1)\n",
        "target = tr['target']\n",
        "\n",
        "# Normalize the features using MinMaxScaler\n",
        "scaler = MinMaxScaler()\n",
        "features_normalized = scaler.fit_transform(features)\n",
        "features_normalized_tr = pd.DataFrame(features_normalized, columns=features.columns)\n",
        "\n",
        "# Split the data into training and testing sets\n",
        "X_train, X_test, y_train, y_test = train_test_split(features_normalized_tr, target, test_size=0.2, random_state=42)\n",
        "\n",
        "# Display the first few rows of each dataset\n",
        "print(\"Training Features:\\n\", X_train.head())\n",
        "print(\"\\nTesting Features:\\n\", X_test.head())\n",
        "print(\"\\nTraining Target:\\n\", y_train.head())\n",
        "print(\"\\nTesting Target:\\n\", y_test.head())"
      ]
    },
    {
      "cell_type": "markdown",
      "source": [
        "Question 2:\n"
      ],
      "metadata": {
        "id": "HI_H9G1mR-Bw"
      }
    },
    {
      "cell_type": "markdown",
      "source": [
        "Read the data with pandas and describe the data\n",
        "\n",
        "Find data type and shape of each column.\n",
        "\n",
        "Find the target and features.\n",
        "\n",
        "Find the null values (if yes fill the null values with '0' or mean of that column).\n",
        "\n",
        "Normalize all the features.\n",
        "\n",
        "Split the data into train and test."
      ],
      "metadata": {
        "id": "-YorjjJMVXzW"
      }
    },
    {
      "cell_type": "code",
      "source": [
        "import pandas as pd\n",
        "\n",
        "tr = pd.read_csv('train.csv')\n",
        "print(tr.describe())\n",
        "print(tr.info())\n",
        "print(tr.shape)\n",
        "\n",
        "# Assuming 'price_range' is the target variable\n",
        "features = tr.drop('price_range', axis=1)\n",
        "target = tr['price_range']\n",
        "\n",
        "# Fill null values with 0 (replace with mean if more appropriate)\n",
        "tr.fillna(0, inplace=True)\n",
        "\n",
        "# Normalize features\n",
        "scaler = MinMaxScaler()\n",
        "features_normalized = scaler.fit_transform(features)\n",
        "features_normalized_tr = pd.DataFrame(features_normalized, columns=features.columns)\n",
        "\n",
        "# Split data\n",
        "X_train, X_test, y_train, y_test = train_test_split(features_normalized_tr, target, test_size=0.2, random_state=42)\n",
        "\n",
        "print(\"Training Features:\\n\", X_train.head())\n",
        "print(\"\\nTesting Features:\\n\", X_test.head())\n",
        "print(\"\\nTraining Target:\\n\", y_train.head())\n",
        "print(\"\\nTesting Target:\\n\", y_test.head())\n"
      ],
      "metadata": {
        "colab": {
          "base_uri": "https://localhost:8080/"
        },
        "id": "WOs3i-sTS1at",
        "outputId": "8f98d9b7-e2f4-410c-c909-0e05d6bc17de"
      },
      "execution_count": null,
      "outputs": [
        {
          "output_type": "stream",
          "name": "stdout",
          "text": [
            "       battery_power       blue  clock_speed     dual_sim           fc  \\\n",
            "count    2000.000000  2000.0000  2000.000000  2000.000000  2000.000000   \n",
            "mean     1238.518500     0.4950     1.522250     0.509500     4.309500   \n",
            "std       439.418206     0.5001     0.816004     0.500035     4.341444   \n",
            "min       501.000000     0.0000     0.500000     0.000000     0.000000   \n",
            "25%       851.750000     0.0000     0.700000     0.000000     1.000000   \n",
            "50%      1226.000000     0.0000     1.500000     1.000000     3.000000   \n",
            "75%      1615.250000     1.0000     2.200000     1.000000     7.000000   \n",
            "max      1998.000000     1.0000     3.000000     1.000000    19.000000   \n",
            "\n",
            "            four_g   int_memory        m_dep    mobile_wt      n_cores  ...  \\\n",
            "count  2000.000000  2000.000000  2000.000000  2000.000000  2000.000000  ...   \n",
            "mean      0.521500    32.046500     0.501750   140.249000     4.520500  ...   \n",
            "std       0.499662    18.145715     0.288416    35.399655     2.287837  ...   \n",
            "min       0.000000     2.000000     0.100000    80.000000     1.000000  ...   \n",
            "25%       0.000000    16.000000     0.200000   109.000000     3.000000  ...   \n",
            "50%       1.000000    32.000000     0.500000   141.000000     4.000000  ...   \n",
            "75%       1.000000    48.000000     0.800000   170.000000     7.000000  ...   \n",
            "max       1.000000    64.000000     1.000000   200.000000     8.000000  ...   \n",
            "\n",
            "         px_height     px_width          ram         sc_h         sc_w  \\\n",
            "count  2000.000000  2000.000000  2000.000000  2000.000000  2000.000000   \n",
            "mean    645.108000  1251.515500  2124.213000    12.306500     5.767000   \n",
            "std     443.780811   432.199447  1084.732044     4.213245     4.356398   \n",
            "min       0.000000   500.000000   256.000000     5.000000     0.000000   \n",
            "25%     282.750000   874.750000  1207.500000     9.000000     2.000000   \n",
            "50%     564.000000  1247.000000  2146.500000    12.000000     5.000000   \n",
            "75%     947.250000  1633.000000  3064.500000    16.000000     9.000000   \n",
            "max    1960.000000  1998.000000  3998.000000    19.000000    18.000000   \n",
            "\n",
            "         talk_time      three_g  touch_screen         wifi  price_range  \n",
            "count  2000.000000  2000.000000   2000.000000  2000.000000  2000.000000  \n",
            "mean     11.011000     0.761500      0.503000     0.507000     1.500000  \n",
            "std       5.463955     0.426273      0.500116     0.500076     1.118314  \n",
            "min       2.000000     0.000000      0.000000     0.000000     0.000000  \n",
            "25%       6.000000     1.000000      0.000000     0.000000     0.750000  \n",
            "50%      11.000000     1.000000      1.000000     1.000000     1.500000  \n",
            "75%      16.000000     1.000000      1.000000     1.000000     2.250000  \n",
            "max      20.000000     1.000000      1.000000     1.000000     3.000000  \n",
            "\n",
            "[8 rows x 21 columns]\n",
            "<class 'pandas.core.frame.DataFrame'>\n",
            "RangeIndex: 2000 entries, 0 to 1999\n",
            "Data columns (total 21 columns):\n",
            " #   Column         Non-Null Count  Dtype  \n",
            "---  ------         --------------  -----  \n",
            " 0   battery_power  2000 non-null   int64  \n",
            " 1   blue           2000 non-null   int64  \n",
            " 2   clock_speed    2000 non-null   float64\n",
            " 3   dual_sim       2000 non-null   int64  \n",
            " 4   fc             2000 non-null   int64  \n",
            " 5   four_g         2000 non-null   int64  \n",
            " 6   int_memory     2000 non-null   int64  \n",
            " 7   m_dep          2000 non-null   float64\n",
            " 8   mobile_wt      2000 non-null   int64  \n",
            " 9   n_cores        2000 non-null   int64  \n",
            " 10  pc             2000 non-null   int64  \n",
            " 11  px_height      2000 non-null   int64  \n",
            " 12  px_width       2000 non-null   int64  \n",
            " 13  ram            2000 non-null   int64  \n",
            " 14  sc_h           2000 non-null   int64  \n",
            " 15  sc_w           2000 non-null   int64  \n",
            " 16  talk_time      2000 non-null   int64  \n",
            " 17  three_g        2000 non-null   int64  \n",
            " 18  touch_screen   2000 non-null   int64  \n",
            " 19  wifi           2000 non-null   int64  \n",
            " 20  price_range    2000 non-null   int64  \n",
            "dtypes: float64(2), int64(19)\n",
            "memory usage: 328.2 KB\n",
            "None\n",
            "(2000, 21)\n",
            "Training Features:\n",
            "      battery_power  blue  clock_speed  dual_sim        fc  four_g  int_memory  \\\n",
            "968       0.949900   0.0         0.00       1.0  0.368421     0.0    0.709677   \n",
            "240       0.088176   1.0         0.68       0.0  0.000000     1.0    0.758065   \n",
            "819       0.490982   0.0         0.16       1.0  0.105263     1.0    0.887097   \n",
            "692       0.187041   0.0         0.24       0.0  0.105263     0.0    0.580645   \n",
            "420       0.637943   1.0         0.00       1.0  0.368421     0.0    0.080645   \n",
            "\n",
            "        m_dep  mobile_wt   n_cores    pc  px_height  px_width       ram  \\\n",
            "968  0.444444   0.925000  0.000000  0.50   0.391327  0.840454  0.329503   \n",
            "240  0.000000   0.491667  1.000000  0.05   0.269898  0.339786  0.882950   \n",
            "819  0.000000   0.900000  0.000000  0.70   0.263776  0.206275  0.307322   \n",
            "692  0.333333   0.983333  0.571429  0.35   0.155102  0.783712  0.869054   \n",
            "420  0.333333   0.208333  0.571429  0.60   0.419898  0.403204  0.355692   \n",
            "\n",
            "         sc_h      sc_w  talk_time  three_g  touch_screen  wifi  \n",
            "968  0.357143  0.500000   0.055556      1.0           1.0   1.0  \n",
            "240  0.428571  0.055556   0.777778      1.0           1.0   1.0  \n",
            "819  0.642857  0.666667   1.000000      1.0           0.0   1.0  \n",
            "692  0.571429  0.444444   0.166667      0.0           0.0   1.0  \n",
            "420  0.071429  0.277778   1.000000      1.0           0.0   1.0  \n",
            "\n",
            "Testing Features:\n",
            "       battery_power  blue  clock_speed  dual_sim        fc  four_g  \\\n",
            "1860       0.764863   0.0         0.80       0.0  0.157895     1.0   \n",
            "353        0.454910   0.0         0.00       0.0  0.368421     1.0   \n",
            "1333       0.982632   0.0         0.96       0.0  0.473684     0.0   \n",
            "905        0.325985   1.0         0.60       0.0  0.210526     0.0   \n",
            "1289       0.076152   1.0         0.00       1.0  0.368421     0.0   \n",
            "\n",
            "      int_memory     m_dep  mobile_wt   n_cores    pc  px_height  px_width  \\\n",
            "1860    0.370968  0.555556   1.000000  0.142857  0.25   0.107653  0.739653   \n",
            "353     0.096774  0.444444   0.483333  1.000000  0.80   0.140306  0.324433   \n",
            "1333    0.193548  0.333333   0.966667  0.857143  0.90   0.149490  0.301736   \n",
            "905     0.241935  0.111111   0.716667  0.285714  0.95   0.130612  0.596796   \n",
            "1289    0.903226  0.444444   0.416667  0.571429  0.40   0.520918  0.973298   \n",
            "\n",
            "           ram      sc_h      sc_w  talk_time  three_g  touch_screen  wifi  \n",
            "1860  0.114912  0.214286  0.333333   0.500000      1.0           1.0   0.0  \n",
            "353   0.616515  1.000000  0.944444   0.944444      1.0           0.0   0.0  \n",
            "1333  0.283271  0.214286  0.055556   0.333333      1.0           1.0   0.0  \n",
            "905   0.971673  0.928571  0.388889   0.944444      1.0           1.0   0.0  \n",
            "1289  0.440941  0.642857  0.277778   0.166667      1.0           0.0   0.0  \n",
            "\n",
            "Training Target:\n",
            " 968    1\n",
            "240    2\n",
            "819    0\n",
            "692    3\n",
            "420    1\n",
            "Name: price_range, dtype: int64\n",
            "\n",
            "Testing Target:\n",
            " 1860    0\n",
            "353     2\n",
            "1333    1\n",
            "905     3\n",
            "1289    1\n",
            "Name: price_range, dtype: int64\n"
          ]
        }
      ]
    }
  ]
}